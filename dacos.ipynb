{
 "cells": [
  {
   "cell_type": "markdown",
   "metadata": {},
   "source": [
    "## Embeddings"
   ]
  },
  {
   "cell_type": "code",
   "execution_count": null,
   "metadata": {},
   "outputs": [],
   "source": [
    "from dotenv import load_dotenv"
   ]
  },
  {
   "cell_type": "code",
   "execution_count": null,
   "metadata": {},
   "outputs": [],
   "source": [
    "import json\n",
    "\n",
    "from langchain.schema import Document\n",
    "from langchain.vectorstores import FAISS\n",
    "import json\n",
    "from langchain.schema import Document\n",
    "import pandas as pd\n",
    "import numpy as np\n",
    "import duckdb\n",
    "from langchain_openai import OpenAIEmbeddings"
   ]
  },
  {
   "cell_type": "code",
   "execution_count": null,
   "metadata": {},
   "outputs": [],
   "source": [
    "embedding_model = OpenAIEmbeddings(model=\"text-embedding-3-small\")"
   ]
  },
  {
   "cell_type": "code",
   "execution_count": null,
   "metadata": {},
   "outputs": [],
   "source": [
    "medical_codes = []\n",
    "with open(\"data/ciselniky/vykon.jsonl\", \"r\", encoding=\"utf-8\") as f:\n",
    "    for line in f:\n",
    "        data = str(json.loads(line))\n",
    "        medical_codes.append(data)"
   ]
  },
  {
   "cell_type": "code",
   "execution_count": null,
   "metadata": {},
   "outputs": [],
   "source": [
    "code_embeddings = embedding_model.embed_documents(medical_codes)"
   ]
  },
  {
   "cell_type": "code",
   "execution_count": null,
   "metadata": {},
   "outputs": [],
   "source": [
    "# Wrap medical codes in Documents\n",
    "code_docs = [Document(page_content=code) for code in medical_codes]\n",
    "\n",
    "# Create FAISS index\n",
    "vector_store = FAISS.from_documents(code_docs, embedding_model)\n",
    "\n",
    "vector_store.save_local(\"faiss_index\")"
   ]
  },
  {
   "cell_type": "code",
   "execution_count": null,
   "metadata": {},
   "outputs": [],
   "source": [
    "# Params\n",
    "zprava = \"ODBĚR KRVE Z ARTERIE\"\n",
    "\n",
    "k = 5"
   ]
  },
  {
   "cell_type": "code",
   "execution_count": null,
   "metadata": {},
   "outputs": [],
   "source": [
    "relevant_docs = vector_store.similarity_search(zprava, k=k)\n",
    "docs = []\n",
    "print(f\"Zprava: {zprava}\")\n",
    "print(f\"Matched Codes:\")\n",
    "for i in range(k):\n",
    "    doc = relevant_docs[i].page_content\n",
    "    docs.append(relevant_docs[i].page_content)\n",
    "    print(doc)"
   ]
  },
  {
   "cell_type": "code",
   "execution_count": null,
   "metadata": {},
   "outputs": [],
   "source": [
    "import ast\n",
    "docs_dict = [ast.literal_eval(item) for item in docs]\n",
    "df_docs = pd.DataFrame(docs_dict)\n"
   ]
  },
  {
   "cell_type": "markdown",
   "metadata": {},
   "source": [
    "## Occurences stats"
   ]
  },
  {
   "cell_type": "code",
   "execution_count": null,
   "metadata": {},
   "outputs": [],
   "source": [
    "from functools import lru_cache\n",
    "\n",
    "vykony = pd.read_csv(\"data/vykazy/vyk_23_vykony_new.csv\", encoding=\"windows-1252\", sep=\";\")\n",
    "@lru_cache(maxsize=None)\n",
    "def get_df_normalized_co_occurrence() -> pd.DataFrame:\n",
    "    vykony_pivot = pd.get_dummies(vykony.set_index('CDOKL')['KOD']).groupby('CDOKL').sum()\n",
    "    co_occurrence_matrix = np.dot(vykony_pivot.T, vykony_pivot)\n",
    "    np.fill_diagonal(co_occurrence_matrix, 0)\n",
    "    co_occurrence_df = pd.DataFrame(co_occurrence_matrix, index=vykony_pivot.columns, columns=vykony_pivot.columns)\n",
    "    df_normalized_co_occurrence = (co_occurrence_df - co_occurrence_df.min()) / (co_occurrence_df.max() - co_occurrence_df.min())\n",
    "    df_normalized_co_occurrence.fillna(0, inplace=True)\n",
    "    df_normalized_co_occurrence.reset_index(inplace=True)\n",
    "    df_normalized_co_occurrence.rename(columns={'index': 'kod'}, inplace=True)\n",
    "    return df_normalized_co_occurrence"
   ]
  },
  {
   "cell_type": "code",
   "execution_count": null,
   "metadata": {},
   "outputs": [],
   "source": [
    "df_normalized_co_occurrence = get_df_normalized_co_occurrence()\n",
    "\n",
    "res = []\n",
    "for code in df_docs[\"code\"].tolist():\n",
    "    df = df_normalized_co_occurrence[[\"kod\", code]]\n",
    "    df = df[df[\"kod\"].isin([42022, 9543])]\n",
    "    df = df[df[code] >= 0.6]  # some threshold\n",
    "    df = df.sort_values(by=code, ascending=False)\n",
    "    df = df.reset_index(drop=True)\n",
    "    if len(df) > 0:\n",
    "        res.extend(df[\"kod\"].tolist())\n",
    "        \n",
    "list(set(res))"
   ]
  },
  {
   "cell_type": "code",
   "execution_count": null,
   "metadata": {},
   "outputs": [],
   "source": [
    "selected_col = 9223\n",
    "display(df_normalized_co_occurrence[[\"kod\", selected_col]].sort_values(by=selected_col, ascending=False))"
   ]
  },
  {
   "cell_type": "code",
   "execution_count": null,
   "metadata": {},
   "outputs": [],
   "source": [
    "df_normalized_co_occurrence"
   ]
  },
  {
   "cell_type": "code",
   "execution_count": null,
   "metadata": {},
   "outputs": [],
   "source": [
    "# Convert to DataFrame for easier visualization\n",
    "import plotly.express as px\n",
    "\n",
    "fig = px.imshow(df_normalized_co_occurrence, \n",
    "                labels=dict(x=\"Code 1\", y=\"Code 2\", color=\"Co-occurrence Count\"),\n",
    "                title=\"Code Co-occurrence Matrix\",\n",
    "                color_continuous_scale=\"YlGnBu\")\n",
    "\n",
    "# Show the plot\n",
    "fig.show()\n"
   ]
  },
  {
   "cell_type": "code",
   "execution_count": null,
   "metadata": {},
   "outputs": [],
   "source": [
    "df_codes_relationships = duckdb.sql(\n",
    "    \"\"\"\n",
    "    with occurrences as (\n",
    "        select \n",
    "            v1.cdokl,\n",
    "            v1.kod as kod_1,\n",
    "            v2.kod as kod_2,\n",
    "            least(kod_1) as kod1,\n",
    "            greatest(kod_2) as kod2,\n",
    "        from vykony v1\n",
    "            full join vykony v2 using (cdokl)\n",
    "        where \n",
    "            true\n",
    "            -- and cdokl in (98806, 271592)\n",
    "            and kod_1 > kod_2\n",
    "        order by cdokl, kod_1\n",
    "    )\n",
    "    select \n",
    "        kod1::text as kod1,\n",
    "        kod2::text as kod2,\n",
    "        count(*) as occurences_in_cdokl_cnt\n",
    "    from occurrences\n",
    "    group by \n",
    "        kod1,\n",
    "        kod2\n",
    "    order by kod1\n",
    "    \"\"\"\n",
    ").df()\n",
    "df_codes_relationships"
   ]
  },
  {
   "cell_type": "code",
   "execution_count": null,
   "metadata": {},
   "outputs": [],
   "source": [
    "heatmap_data = df_codes_relationships.pivot(index='kod1', columns='kod2', values='occurences_in_cdokl_cnt')\n",
    "\n",
    "# Take log of values (base 10)\n",
    "log_data = np.log10(heatmap_data)\n",
    "\n",
    "# Plot heatmap\n",
    "fig = px.imshow(log_data,\n",
    "                text_auto=True,\n",
    "                color_continuous_scale='Viridis',\n",
    "                labels={'x': 'Kod 1', 'y': 'Kod 2', 'color': 'log₁₀(Počet výskytů ve výkonech)'},\n",
    "                title='Vztah kódů ve výkonech')\n",
    "fig.update_traces(text=heatmap_data.values.astype(str))  # optional: format nicely with .2f\n",
    "fig.update_layout(width=1200, height=900)  # or any size you want\n",
    "fig.show()"
   ]
  },
  {
   "cell_type": "code",
   "execution_count": null,
   "metadata": {},
   "outputs": [],
   "source": [
    "import plotly.graph_objects as go\n",
    "\n",
    "\n",
    "# Pivot for heatmap\n",
    "matrix = df_codes_relationships.pivot(index='kod2', columns='kod1', values='occurences_in_cdokl_cnt')\n",
    "log_matrix = np.log10(matrix)\n",
    "\n",
    "# Custom hover text showing original values\n",
    "hover_text = [[f\"Kód 1: {k1}<br>Kód 2: {k2}<br>Počet výskytů ve výkonech: {matrix.loc[k2, k1]}\"\n",
    "               for k1 in matrix.columns] for k2 in matrix.index]\n",
    "\n",
    "# Plot heatmap\n",
    "fig = go.Figure(data=go.Heatmap(\n",
    "    z=log_matrix.values,\n",
    "    x=matrix.columns,\n",
    "    y=matrix.index,\n",
    "    text=hover_text,\n",
    "    hoverinfo='text',\n",
    "    colorscale='Viridis',\n",
    "    colorbar=dict(title='log₁₀(Počet výskytů ve výkonech)')\n",
    "))\n",
    "\n",
    "fig.update_layout(\n",
    "    title='Vztah kódů ve výkonech',\n",
    "    xaxis_title='Kód 1',\n",
    "    yaxis_title='Kód 2',\n",
    "    width=800,\n",
    "    height=600\n",
    ")\n",
    "\n",
    "fig.show()\n"
   ]
  },
  {
   "cell_type": "code",
   "execution_count": null,
   "metadata": {},
   "outputs": [],
   "source": []
  },
  {
   "cell_type": "code",
   "execution_count": null,
   "metadata": {},
   "outputs": [],
   "source": []
  },
  {
   "cell_type": "code",
   "execution_count": null,
   "metadata": {},
   "outputs": [],
   "source": []
  }
 ],
 "metadata": {
  "kernelspec": {
   "display_name": ".venv",
   "language": "python",
   "name": "python3"
  },
  "language_info": {
   "codemirror_mode": {
    "name": "ipython",
    "version": 3
   },
   "file_extension": ".py",
   "mimetype": "text/x-python",
   "name": "python",
   "nbconvert_exporter": "python",
   "pygments_lexer": "ipython3",
   "version": "3.13.1"
  }
 },
 "nbformat": 4,
 "nbformat_minor": 2
}
