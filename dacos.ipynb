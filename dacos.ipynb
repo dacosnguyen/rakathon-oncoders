{
 "cells": [
  {
   "cell_type": "markdown",
   "metadata": {},
   "source": [
    "## Embeddings"
   ]
  },
  {
   "cell_type": "code",
   "execution_count": 4,
   "metadata": {},
   "outputs": [],
   "source": [
    "from dotenv import load_dotenv"
   ]
  },
  {
   "cell_type": "code",
   "execution_count": 23,
   "metadata": {},
   "outputs": [],
   "source": [
    "from langchain_openai import OpenAIEmbeddings\n",
    "from langchain.vectorstores import FAISS\n",
    "import json\n",
    "from langchain.schema import Document\n"
   ]
  },
  {
   "cell_type": "code",
   "execution_count": 24,
   "metadata": {},
   "outputs": [],
   "source": [
    "embedding_model = OpenAIEmbeddings(model=\"text-embedding-3-small\")"
   ]
  },
  {
   "cell_type": "code",
   "execution_count": 19,
   "metadata": {},
   "outputs": [],
   "source": [
    "medical_codes = []\n",
    "with open('data/ciselniky/vykon.jsonl', 'r', encoding='utf-8') as f:\n",
    "    for line in f:\n",
    "        data = str(json.loads(line))\n",
    "        medical_codes.append(data)"
   ]
  },
  {
   "cell_type": "code",
   "execution_count": null,
   "metadata": {},
   "outputs": [],
   "source": [
    "code_embeddings = embedding_model.embed_documents(medical_codes)"
   ]
  },
  {
   "cell_type": "code",
   "execution_count": 25,
   "metadata": {},
   "outputs": [],
   "source": [
    "# Wrap medical codes in Documents\n",
    "code_docs = [Document(page_content=code) for code in medical_codes]\n",
    "\n",
    "# Create FAISS index\n",
    "vector_store = FAISS.from_documents(code_docs, embedding_model)"
   ]
  },
  {
   "cell_type": "code",
   "execution_count": 40,
   "metadata": {},
   "outputs": [],
   "source": [
    "# Params\n",
    "zprava = \"\"\"\n",
    "MUDr. Kryštofová Dominika\n",
    "C163 \n",
    "Pacientka se dostavila na 2.lůžkovou stanici k podání transfuzí - na Hb 80g/l. V čase od 11.25 do 13.00 podány 2 TU ERY, krevní skupiny AB Rh + - bez komplikací. \n",
    "Pacientka odchází bez známek dechové či oběhové nedostatečnosti.\n",
    "\"\"\"\n",
    "# zprava = \"ODBĚR KRVE Z ARTERIE\"\n",
    "\n",
    "k=5"
   ]
  },
  {
   "cell_type": "code",
   "execution_count": 41,
   "metadata": {},
   "outputs": [
    {
     "name": "stdout",
     "output_type": "stream",
     "text": [
      "Zprava: \n",
      "MUDr. Kryštofová Dominika\n",
      "C163 \n",
      "Pacientka se dostavila na 2.lůžkovou stanici k podání transfuzí - na Hb 80g/l. V čase od 11.25 do 13.00 podány 2 TU ERY, krevní skupiny AB Rh + - bez komplikací. \n",
      "Pacientka odchází bez známek dechové či oběhové nedostatečnosti.\n",
      "\n",
      "Matched Codes:\n",
      "{'code': 9113, 'name': 'ODBĚR KRVE Z ARTERIE', 'description': 'U pacientů s respirační insuficiencí před indikací DDOT lze vykázat 6/1 den.', 'odbornost': '999'}\n",
      "{'code': 9119, 'name': 'ODBĚR KRVE ZE ŽÍLY U DOSPĚLÉHO NEBO DÍTĚTE NAD 10 LET', 'description': 'Jde o odběr krve ze žíly vpichem. Krev slouží k diagnostickým vyšetřením v laboratoři. Jen vyjímečně může jít o výkon léčebný. V případě kombinace s výkonem č. 81443 (oGTT) lze vykázat 3/1 den.', 'odbornost': '999'}\n",
      "{'code': 22365, 'name': 'ODBĚR PERIFERNÍCH KMENOVÝCH BUŇEK', 'description': 'Odběr periferních kmenových hemopoetických buněk (pro jejich transplantaci) technikou průtokové separace na separátoru krevních elementů.', 'odbornost': '222'}\n",
      "{'code': 9117, 'name': 'ODBĚR KRVE ZE ŽÍLY U DÍTĚTĚ DO 10 LET', 'description': 'Odběr krve ze žíly u dítěte mladšího 10 let k diagnostickým účelům. V případě kombinace s výkonem č. 81443 (oGTT) lze vykázat 3/1 den.', 'odbornost': '999'}\n",
      "{'code': 51811, 'name': 'INCIZE A DRENÁŽ ABSCESU NEBO HEMATOMU', 'description': 'Použitá anestezie se vykazuje samostatným výkonem.', 'odbornost': '511'}\n"
     ]
    }
   ],
   "source": [
    "\n",
    "results = vector_store.similarity_search(zprava, k=k)\n",
    "print(f\"Zprava: {zprava}\")\n",
    "print(f\"Matched Codes:\")\n",
    "for i in range(k):\n",
    "    print(results[i].page_content)"
   ]
  },
  {
   "cell_type": "code",
   "execution_count": null,
   "metadata": {},
   "outputs": [],
   "source": []
  }
 ],
 "metadata": {
  "kernelspec": {
   "display_name": ".venv",
   "language": "python",
   "name": "python3"
  },
  "language_info": {
   "codemirror_mode": {
    "name": "ipython",
    "version": 3
   },
   "file_extension": ".py",
   "mimetype": "text/x-python",
   "name": "python",
   "nbconvert_exporter": "python",
   "pygments_lexer": "ipython3",
   "version": "3.13.1"
  }
 },
 "nbformat": 4,
 "nbformat_minor": 2
}
